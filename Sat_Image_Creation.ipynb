{
  "nbformat": 4,
  "nbformat_minor": 0,
  "metadata": {
    "colab": {
      "provenance": [],
      "authorship_tag": "ABX9TyNKZYdbHYkHIRnpB9WlsMbw",
      "include_colab_link": true
    },
    "kernelspec": {
      "name": "python3",
      "display_name": "Python 3"
    },
    "language_info": {
      "name": "python"
    }
  },
  "cells": [
    {
      "cell_type": "markdown",
      "metadata": {
        "id": "view-in-github",
        "colab_type": "text"
      },
      "source": [
        "<a href=\"https://colab.research.google.com/github/jcorner1/MMH_Project/blob/main/Sat_Image_Creation.ipynb\" target=\"_parent\"><img src=\"https://colab.research.google.com/assets/colab-badge.svg\" alt=\"Open In Colab\"/></a>"
      ]
    },
    {
      "cell_type": "markdown",
      "source": [],
      "metadata": {
        "id": "m_4eZJJj7bRQ"
      }
    },
    {
      "cell_type": "code",
      "execution_count": 1,
      "metadata": {
        "id": "TPBDINCu7Awo"
      },
      "outputs": [],
      "source": [
        "import numpy as np"
      ]
    },
    {
      "cell_type": "code",
      "source": [
        "from google.colab import drive\n",
        "\n",
        "# Mount your Google Drive\n",
        "drive.mount('/content/drive')\n",
        "\n",
        "import os\n",
        "os.listdir(\"/content/drive/My Drive/Colab Notebooks/subsets/tiles\")"
      ],
      "metadata": {
        "colab": {
          "base_uri": "https://localhost:8080/"
        },
        "id": "pTr_XYrQL3AO",
        "outputId": "e42299be-28dc-438f-c7ec-42bc892d6065"
      },
      "execution_count": 2,
      "outputs": [
        {
          "output_type": "stream",
          "name": "stdout",
          "text": [
            "Drive already mounted at /content/drive; to attempt to forcibly remount, call drive.mount(\"/content/drive\", force_remount=True).\n"
          ]
        },
        {
          "output_type": "execute_result",
          "data": {
            "text/plain": [
              "['ortho_1-1_hc_s_al127_2023_12.tfw',\n",
              " 'ortho_1-1_hc_s_al127_2023_11.tfw',\n",
              " 'ortho_1-1_hc_s_al127_2023_10.tfw',\n",
              " 'ortho_1-1_hc_s_al127_2023_13.tfw',\n",
              " 'ortho_1-1_hc_s_al127_2023_12.TIF.ovr',\n",
              " 'ortho_1-1_hc_s_al127_2023_10.TIF.ovr',\n",
              " 'ortho_1-1_hc_s_al127_2023_12.TIF',\n",
              " 'ortho_1-1_hc_s_al127_2023_13.TIF',\n",
              " 'ortho_1-1_hc_s_al127_2023_11.TIF',\n",
              " 'ortho_1-1_hc_s_al127_2023_11.TIF.ovr',\n",
              " 'ortho_1-1_hc_s_al127_2023_13.TIF.ovr',\n",
              " 'ortho_1-1_hc_s_al127_2023_10.TIF',\n",
              " 'ortho_1-1_hc_s_al127_2023_13.TIF.aux.xml',\n",
              " 'ortho_1-1_hc_s_al127_2023_12.TIF.aux.xml',\n",
              " 'ortho_1-1_hc_s_al127_2023_10.TIF.aux.xml',\n",
              " 'ortho_1-1_hc_s_al127_2023_11.TIF.aux.xml']"
            ]
          },
          "metadata": {},
          "execution_count": 2
        }
      ]
    },
    {
      "cell_type": "code",
      "source": [
        "from osgeo import gdal\n",
        "import numpy as np\n",
        "gdal.UseExceptions()\n",
        "\n",
        "def load_sat_image(filename):\n",
        "  \"\"\"Loads a satellite image from a file.\n",
        "  \"\"\"\n",
        "\n",
        "  # open the .sid file\n",
        "  dataset = gdal.Open(filename)\n",
        "\n",
        "  # get the raster bands\n",
        "  band1 = dataset.GetRasterBand(1)\n",
        "  band2 = dataset.GetRasterBand(2)\n",
        "  band3 = dataset.GetRasterBand(3)\n",
        "\n",
        "  # read the data as a numpy array\n",
        "  data1 = band1.ReadAsArray()\n",
        "  data2 = band2.ReadAsArray()\n",
        "  data3 = band3.ReadAsArray()\n",
        "\n",
        "  # create color image with the raster band arrays\n",
        "  data = np.dstack((data1, data2, data3))\n",
        "  return data"
      ],
      "metadata": {
        "id": "iXL8Fxgc7qiP"
      },
      "execution_count": 3,
      "outputs": []
    },
    {
      "cell_type": "code",
      "source": [
        "# prompt: use bicubic compression on the images\n",
        "\n",
        "import cv2\n",
        "\n",
        "def compress_bicubic(image):\n",
        "  \"\"\"Compresses an image using bicubic interpolation.\n",
        "  \"\"\"\n",
        "\n",
        "  # resize the image using bicubic interpolation\n",
        "  compressed_image = cv2.resize(image, (image.shape[1] // 2, image.shape[0] // 2), interpolation=cv2.INTER_CUBIC)\n",
        "\n",
        "  return compressed_image"
      ],
      "metadata": {
        "id": "sz2NFipcP_5C"
      },
      "execution_count": 4,
      "outputs": []
    },
    {
      "cell_type": "code",
      "source": [
        "# iterate through the images\n",
        "for index_code in [10, 11, 12, 13]:\n",
        "  img = load_sat_image(f'/content/drive/My Drive/Colab Notebooks/subsets/tiles/ortho_1-1_hc_s_al127_2023_{index_code}.TIF')\n",
        "\n",
        "  # iterate through x and y\n",
        "  for x in np.arange(112, img.shape[0], 224):\n",
        "    for y in np.arange(112, img.shape[1], 224):\n",
        "\n",
        "      # crop the image\n",
        "      sub_img = img[x-112:x+112, y-112:y+112]\n",
        "\n",
        "      # check if image is correct size\n",
        "      if sub_img.shape == (224, 224, 3):\n",
        "\n",
        "        if os.path.exists(f'/content/drive/My Drive/Colab Notebooks/Sat_Images/hr_images/ortho_1-1_hc_s_al127_2023_{index_code}_{x}_{y}.npy') == False:\n",
        "          # compress the sub image using bicubic interpolation\n",
        "          compressed_image = compress_bicubic(sub_img)\n",
        "\n",
        "          # save the normal and low resolution image\n",
        "          np.save(f'/content/drive/My Drive/Colab Notebooks/Sat_Images/hr_images/ortho_1-1_hc_s_al127_2023_{index_code}_{x}_{y}.npy', sub_img)\n",
        "          np.save(f'/content/drive/My Drive/Colab Notebooks/Sat_Images/lr_images/ortho_1-1_hc_s_al127_2023_{index_code}_{x}_{y}.npy', compressed_image)\n"
      ],
      "metadata": {
        "id": "A6k_yqM2Pynf"
      },
      "execution_count": 5,
      "outputs": []
    }
  ]
}