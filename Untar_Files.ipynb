{
  "nbformat": 4,
  "nbformat_minor": 0,
  "metadata": {
    "colab": {
      "provenance": [],
      "authorship_tag": "ABX9TyNmyumdRE9W0pf4OK/ZAWGQ",
      "include_colab_link": true
    },
    "kernelspec": {
      "name": "python3",
      "display_name": "Python 3"
    },
    "language_info": {
      "name": "python"
    }
  },
  "cells": [
    {
      "cell_type": "markdown",
      "metadata": {
        "id": "view-in-github",
        "colab_type": "text"
      },
      "source": [
        "<a href=\"https://colab.research.google.com/github/jcorner1/MMH_Project/blob/main/Untar_Files.ipynb\" target=\"_parent\"><img src=\"https://colab.research.google.com/assets/colab-badge.svg\" alt=\"Open In Colab\"/></a>"
      ]
    },
    {
      "cell_type": "markdown",
      "source": [
        "# Untaring Files\n",
        "To work on some sat images, I needed to subset the tiff file. To do some within the restrictions of Google Colab, I need to make them small enough to load (less than ~12 GBs). When uploading the files to Google Drive, they needed to tarred to quickly transfer them. Therefore, this notebook uses code to untar the file."
      ],
      "metadata": {
        "id": "CAOgtM93jLKc"
      }
    },
    {
      "cell_type": "code",
      "execution_count": 1,
      "metadata": {
        "colab": {
          "base_uri": "https://localhost:8080/"
        },
        "id": "3CmWyq0pbhT1",
        "outputId": "eba7448d-be18-43e8-9658-c8ec4f4509e7"
      },
      "outputs": [
        {
          "output_type": "stream",
          "name": "stdout",
          "text": [
            "Mounted at /content/drive\n"
          ]
        }
      ],
      "source": [
        "# prompt: mount google drive\n",
        "\n",
        "from google.colab import drive\n",
        "drive.mount('/content/drive')\n"
      ]
    },
    {
      "cell_type": "markdown",
      "source": [
        "### Untaring the File\n",
        "This line of code as well as other information on unzipping, GZ, and RARing can be found on this notebook: https://colab.research.google.com/github/sudo-ken/compress-decompress-in-Google-Drive/blob/master/Unrar_Unzip_Rar_Zip_in_GDrive.ipynb#scrollTo=EKjIowyWAMvh"
      ],
      "metadata": {
        "id": "FJ-Lw0nNjHwx"
      }
    },
    {
      "cell_type": "code",
      "metadata": {
        "cellView": "both",
        "id": "EKjIowyWAMvh",
        "colab": {
          "base_uri": "https://localhost:8080/"
        },
        "outputId": "fa461fe0-d012-469b-d97d-a0c241802ff4"
      },
      "source": [
        "!tar -xvf \"/content/drive/My Drive/Colab Notebooks/tiles.tar\" -C \"/content/drive/My Drive/Colab Notebooks/subsets/\"     #[run this cell to extract tar files]"
      ],
      "execution_count": 2,
      "outputs": [
        {
          "output_type": "stream",
          "name": "stdout",
          "text": [
            "tiles/\n",
            "tiles/ortho_1-1_hc_s_al127_2023_10.tfw\n",
            "tiles/ortho_1-1_hc_s_al127_2023_10.TIF\n",
            "tiles/ortho_1-1_hc_s_al127_2023_10.TIF.aux.xml\n",
            "tiles/ortho_1-1_hc_s_al127_2023_10.TIF.ovr\n",
            "tiles/ortho_1-1_hc_s_al127_2023_11.tfw\n",
            "tiles/ortho_1-1_hc_s_al127_2023_11.TIF\n",
            "tiles/ortho_1-1_hc_s_al127_2023_11.TIF.aux.xml\n",
            "tiles/ortho_1-1_hc_s_al127_2023_11.TIF.ovr\n",
            "tiles/ortho_1-1_hc_s_al127_2023_12.tfw\n",
            "tiles/ortho_1-1_hc_s_al127_2023_12.TIF\n",
            "tiles/ortho_1-1_hc_s_al127_2023_12.TIF.aux.xml\n",
            "tiles/ortho_1-1_hc_s_al127_2023_12.TIF.ovr\n",
            "tiles/ortho_1-1_hc_s_al127_2023_13.tfw\n",
            "tiles/ortho_1-1_hc_s_al127_2023_13.TIF\n",
            "tiles/ortho_1-1_hc_s_al127_2023_13.TIF.aux.xml\n",
            "tiles/ortho_1-1_hc_s_al127_2023_13.TIF.ovr\n"
          ]
        }
      ]
    },
    {
      "cell_type": "code",
      "source": [],
      "metadata": {
        "id": "bfyOrTEucVZe"
      },
      "execution_count": null,
      "outputs": []
    }
  ]
}